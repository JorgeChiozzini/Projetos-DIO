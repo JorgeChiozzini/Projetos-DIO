{
 "cells": [
  {
   "cell_type": "markdown",
   "metadata": {},
   "source": [
    "Parte 2 – Implementando um Banco de Dados NoSQL com Pymongo:\n",
    "\n",
    "Conectar ao MongoDB Atlas e criar um banco de dados e uma coleção."
   ]
  },
  {
   "cell_type": "code",
   "execution_count": null,
   "metadata": {},
   "outputs": [],
   "source": [
    "import pymongo\n",
    "\n",
    "# Conectar ao MongoDB Atlas\n",
    "client = pymongo.MongoClient('sua-string-de-conexao')\n",
    "\n",
    "# Criar ou acessar o banco de dados\n",
    "db = client['nome-do-banco']\n",
    "\n",
    "# Criar a coleção 'bank' para armazenar documentos de clientes\n",
    "collection = db['bank']\n"
   ]
  },
  {
   "cell_type": "markdown",
   "metadata": {},
   "source": [
    "Inserir documentos com a estrutura mencionada."
   ]
  },
  {
   "cell_type": "code",
   "execution_count": null,
   "metadata": {},
   "outputs": [],
   "source": [
    "# Inserir documentos de clientes na coleção\n",
    "cliente1_doc = {\n",
    "    'nome': 'Cliente1',\n",
    "    'contas': [\n",
    "        {'numero': '123', 'saldo': 1000}\n",
    "    ]\n",
    "}\n",
    "\n",
    "cliente2_doc = {\n",
    "    'nome': 'Cliente2',\n",
    "    'contas': [\n",
    "        {'numero': '456', 'saldo': 2000}\n",
    "    ]\n",
    "}\n",
    "\n",
    "collection.insert_many([cliente1_doc, cliente2_doc])\n"
   ]
  },
  {
   "cell_type": "markdown",
   "metadata": {},
   "source": [
    "Escrever instruções de recuperação de informações com base nos pares de chave e valor."
   ]
  },
  {
   "cell_type": "code",
   "execution_count": null,
   "metadata": {},
   "outputs": [],
   "source": [
    "# Recuperar informações com base em pares de chave e valor\n",
    "cliente = collection.find_one({'nome': 'Cliente1'})\n",
    "print(f'Cliente: {cliente[\"nome\"]}')\n",
    "for conta in cliente['contas']:\n",
    "    print(f'Conta: {conta[\"numero\"]}, Saldo: {conta[\"saldo\"]}')\n"
   ]
  }
 ],
 "metadata": {
  "language_info": {
   "name": "python"
  }
 },
 "nbformat": 4,
 "nbformat_minor": 2
}
