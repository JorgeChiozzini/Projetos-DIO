{
 "cells": [
  {
   "cell_type": "code",
   "execution_count": null,
   "metadata": {},
   "outputs": [],
   "source": [
    "pip install flask fastapi uvicorn"
   ]
  },
  {
   "cell_type": "code",
   "execution_count": null,
   "metadata": {},
   "outputs": [],
   "source": [
    "from flask import Flask, jsonify\n",
    "from fastapi import FastAPI\n",
    "\n",
    "app_flask = Flask(__name__)\n",
    "app_fastapi = FastAPI()\n",
    "\n",
    "# Exemplo de dados da planilha em formato JSON\n",
    "planilha_data = [\n",
    "    {\"Number\": 1, \"Name\": \"Mahesh\", \"Age\": 25, \"City\": \"Bangalore\", \"Country\": \"India\"},\n",
    "    {\"Number\": 2, \"Name\": \"Alex\", \"Age\": 26, \"City\": \"London\", \"Country\": \"UK\"},\n",
    "    {\"Number\": 3, \"Name\": \"David\", \"Age\": 27, \"City\": \"San Francisco\", \"Country\": \"USA\"},\n",
    "    {\"Number\": 4, \"Name\": \"John\", \"Age\": 28, \"City\": \"Toronto\", \"Country\": \"Canada\"},\n",
    "    {\"Number\": 5, \"Name\": \"Chris\", \"Age\": 29, \"City\": \"Paris\", \"Country\": \"France\"}\n",
    "]\n",
    "\n",
    "# Flask route\n",
    "@app_flask.route('/index')\n",
    "def index_flask():\n",
    "    return jsonify(planilha_data)\n",
    "\n",
    "# FastAPI route\n",
    "@app_fastapi.get('/index')\n",
    "def index_fastapi():\n",
    "    return planilha_data\n",
    "\n",
    "if __name__ == '__main__':\n",
    "    # Run Flask app\n",
    "    import threading\n",
    "    flask_thread = threading.Thread(target=app_flask.run, kwargs={'port': 5000})\n",
    "    flask_thread.start()\n",
    "\n",
    "    # Run FastAPI app\n",
    "    import uvicorn\n",
    "    uvicorn.run(app_fastapi, host=\"0.0.0.0\", port=8000)\n"
   ]
  }
 ],
 "metadata": {
  "language_info": {
   "name": "python"
  }
 },
 "nbformat": 4,
 "nbformat_minor": 2
}
