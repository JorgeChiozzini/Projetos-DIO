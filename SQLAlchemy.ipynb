{
 "cells": [
  {
   "cell_type": "markdown",
   "metadata": {},
   "source": [
    "Parte 1 - Implementando um Banco de Dados Relacional com SQLAlchemy:\n",
    "\n",
    "Definir as classes que representarão as tabelas do banco de dados relacional usando o SQLAlchemy. Vamos supor que você tenha duas tabelas: Cliente e Conta."
   ]
  },
  {
   "cell_type": "code",
   "execution_count": null,
   "metadata": {
    "vscode": {
     "languageId": "plaintext"
    }
   },
   "outputs": [],
   "source": [
    "from sqlalchemy import create_engine, Column, Integer, String, ForeignKey\n",
    "from sqlalchemy.ext.declarative import declarative_base\n",
    "from sqlalchemy.orm import relationship, sessionmaker\n",
    "\n",
    "Base = declarative_base()\n",
    "\n",
    "class Cliente(Base):\n",
    "    __tablename__ = 'clientes'\n",
    "    id = Column(Integer, primary_key=True)\n",
    "    nome = Column(String)\n",
    "    contas = relationship('Conta', back_populates='cliente')\n",
    "\n",
    "class Conta(Base):\n",
    "    __tablename__ = 'contas'\n",
    "    id = Column(Integer, primary_key=True)\n",
    "    numero = Column(String)\n",
    "    saldo = Column(Integer)\n",
    "    cliente_id = Column(Integer, ForeignKey('clientes.id'))\n",
    "    cliente = relationship('Cliente', back_populates='contas')\n"
   ]
  },
  {
   "cell_type": "markdown",
   "metadata": {},
   "source": [
    "Criar uma instância do banco de dados e criar as tabelas."
   ]
  },
  {
   "cell_type": "code",
   "execution_count": null,
   "metadata": {
    "vscode": {
     "languageId": "plaintext"
    }
   },
   "outputs": [],
   "source": [
    "engine = create_engine('sqlite:///:memory:')  # Use o seu caminho de banco de dados desejado\n",
    "Base.metadata.create_all(engine)\n"
   ]
  },
  {
   "cell_type": "markdown",
   "metadata": {},
   "source": [
    "Inserir dados mínimos para manipulação das informações."
   ]
  },
  {
   "cell_type": "code",
   "execution_count": null,
   "metadata": {
    "vscode": {
     "languageId": "plaintext"
    }
   },
   "outputs": [],
   "source": [
    "Session = sessionmaker(bind=engine)\n",
    "session = Session()\n",
    "\n",
    "cliente1 = Cliente(nome='Cliente1', contas=[Conta(numero='123', saldo=1000)])\n",
    "cliente2 = Cliente(nome='Cliente2', contas=[Conta(numero='456', saldo=2000)])\n",
    "\n",
    "session.add_all([cliente1, cliente2])\n",
    "session.commit()\n"
   ]
  },
  {
   "cell_type": "markdown",
   "metadata": {},
   "source": [
    "Executar métodos de recuperação de dados via SQLAlchemy."
   ]
  },
  {
   "cell_type": "code",
   "execution_count": null,
   "metadata": {
    "vscode": {
     "languageId": "plaintext"
    }
   },
   "outputs": [],
   "source": [
    "# Exemplo de consulta para obter todos os clientes\n",
    "clientes = session.query(Cliente).all()\n",
    "\n",
    "for cliente in clientes:\n",
    "    print(f'Cliente: {cliente.nome}')\n",
    "    for conta in cliente.contas:\n",
    "        print(f'Conta: {conta.numero}, Saldo: {conta.saldo}')\n"
   ]
  }
 ],
 "metadata": {
  "language_info": {
   "name": "python"
  }
 },
 "nbformat": 4,
 "nbformat_minor": 2
}
